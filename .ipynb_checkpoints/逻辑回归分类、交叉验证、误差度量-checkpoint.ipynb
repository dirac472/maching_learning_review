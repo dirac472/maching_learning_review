{
 "cells": [
  {
   "cell_type": "markdown",
   "metadata": {},
   "source": [
    "使用 Human Activity Recognition with Smartphones数据集，根据手机传感器的数据预测动作（走路、上楼、下楼、坐着、站着、躺着））"
   ]
  },
  {
   "cell_type": "markdown",
   "metadata": {},
   "source": [
    "dataset提供：\n",
    "\n",
    "•来自加速度计的三轴加速度（总加速度）和估计的身体加速度。\n",
    "\n",
    "•来自陀螺仪的三轴角速度。\n",
    "\n",
    "• 具有时域和频域变量的 561 个特征向量。\n",
    "\n",
    "•它的活动标签。"
   ]
  },
  {
   "cell_type": "code",
   "execution_count": 1,
   "metadata": {},
   "outputs": [],
   "source": [
    "from __future__ import print_function\n",
    "import os\n",
    "import pandas as pd\n",
    "import numpy as np\n",
    "data_path = [ 'dataset']\n",
    "filepath = os.sep.join(data_path + ['Human_Activity_Recognition_Using_Smartphones_Data.csv'])\n",
    "data = pd.read_csv(filepath, sep=',')#加载数据\n"
   ]
  },
  {
   "cell_type": "code",
   "execution_count": 2,
   "metadata": {},
   "outputs": [
    {
     "data": {
      "text/plain": [
       "float64    561\n",
       "object       1\n",
       "dtype: int64"
      ]
     },
     "execution_count": 2,
     "metadata": {},
     "output_type": "execute_result"
    }
   ],
   "source": [
    "#数据列除标签外均为数值类型\n",
    "data.dtypes.value_counts()"
   ]
  },
  {
   "cell_type": "code",
   "execution_count": 3,
   "metadata": {},
   "outputs": [
    {
     "data": {
      "text/plain": [
       "angle(tBodyGyroJerkMean,gravityMean)    float64\n",
       "angle(X,gravityMean)                    float64\n",
       "angle(Y,gravityMean)                    float64\n",
       "angle(Z,gravityMean)                    float64\n",
       "Activity                                 object\n",
       "dtype: object"
      ]
     },
     "execution_count": 3,
     "metadata": {},
     "output_type": "execute_result"
    }
   ],
   "source": [
    "data.dtypes.tail()#查看最后五列数据"
   ]
  },
  {
   "cell_type": "markdown",
   "metadata": {},
   "source": [
    "数据都按比例从 -1（最小值）到 1.0（最大值）。（不用缩放了）"
   ]
  },
  {
   "cell_type": "code",
   "execution_count": 4,
   "metadata": {},
   "outputs": [
    {
     "data": {
      "text/plain": [
       "-1.0    561\n",
       "dtype: int64"
      ]
     },
     "execution_count": 4,
     "metadata": {},
     "output_type": "execute_result"
    }
   ],
   "source": [
    "\n",
    "data.iloc[:, :-1].min().value_counts()"
   ]
  },
  {
   "cell_type": "code",
   "execution_count": 5,
   "metadata": {},
   "outputs": [
    {
     "data": {
      "text/plain": [
       "1.0    561\n",
       "dtype: int64"
      ]
     },
     "execution_count": 5,
     "metadata": {},
     "output_type": "execute_result"
    }
   ],
   "source": [
    "data.iloc[:, :-1].max().value_counts()"
   ]
  },
  {
   "cell_type": "code",
   "execution_count": 6,
   "metadata": {},
   "outputs": [
    {
     "data": {
      "text/plain": [
       "LAYING                1944\n",
       "STANDING              1906\n",
       "SITTING               1777\n",
       "WALKING               1722\n",
       "WALKING_UPSTAIRS      1544\n",
       "WALKING_DOWNSTAIRS    1406\n",
       "Name: Activity, dtype: int64"
      ]
     },
     "execution_count": 6,
     "metadata": {},
     "output_type": "execute_result"
    }
   ],
   "source": [
    "data.Activity.value_counts()"
   ]
  },
  {
   "cell_type": "markdown",
   "metadata": {},
   "source": [
    "Scikit 学习分类器不接受预测列的稀疏矩阵。\n",
    "因此，要么需要使用 LabelEncoder 将活动标签转换为整数，要么如果使用 DictVectorizer，则必须将生成的矩阵转换为非稀疏数组。\n",
    "\n",
    "使用 LabelEncoder 对“Activity”列进行 fit_transform，并查看 5 个随机值。"
   ]
  },
  {
   "cell_type": "code",
   "execution_count": 7,
   "metadata": {},
   "outputs": [
    {
     "data": {
      "text/plain": [
       "2585    1\n",
       "4829    4\n",
       "3112    1\n",
       "6348    0\n",
       "4974    0\n",
       "Name: Activity, dtype: int32"
      ]
     },
     "execution_count": 7,
     "metadata": {},
     "output_type": "execute_result"
    }
   ],
   "source": [
    "from sklearn.preprocessing import LabelEncoder\n",
    "\n",
    "le = LabelEncoder()\n",
    "data['Activity'] = le.fit_transform(data.Activity)\n",
    "data['Activity'].sample(5)"
   ]
  },
  {
   "cell_type": "code",
   "execution_count": 8,
   "metadata": {},
   "outputs": [
    {
     "data": {
      "text/plain": [
       "0    1944\n",
       "2    1906\n",
       "1    1777\n",
       "3    1722\n",
       "5    1544\n",
       "4    1406\n",
       "Name: Activity, dtype: int64"
      ]
     },
     "execution_count": 8,
     "metadata": {},
     "output_type": "execute_result"
    }
   ],
   "source": [
    "data.Activity.value_counts()"
   ]
  },
  {
   "cell_type": "markdown",
   "metadata": {},
   "source": [
    "- 计算因变量之间的相关性。\n",
    "- 创建相关值的直方图 \n",
    "- 识别最相关（正相关或负相关）的列。"
   ]
  },
  {
   "cell_type": "code",
   "execution_count": 9,
   "metadata": {},
   "outputs": [],
   "source": [
    "#计算相关值\n",
    "feature_cols = data.columns[:-1]\n",
    "corr_values = data[feature_cols].corr()"
   ]
  },
  {
   "cell_type": "code",
   "execution_count": 10,
   "metadata": {},
   "outputs": [
    {
     "data": {
      "text/html": [
       "<div>\n",
       "<style scoped>\n",
       "    .dataframe tbody tr th:only-of-type {\n",
       "        vertical-align: middle;\n",
       "    }\n",
       "\n",
       "    .dataframe tbody tr th {\n",
       "        vertical-align: top;\n",
       "    }\n",
       "\n",
       "    .dataframe thead th {\n",
       "        text-align: right;\n",
       "    }\n",
       "</style>\n",
       "<table border=\"1\" class=\"dataframe\">\n",
       "  <thead>\n",
       "    <tr style=\"text-align: right;\">\n",
       "      <th></th>\n",
       "      <th>tBodyAcc-mean()-X</th>\n",
       "      <th>tBodyAcc-mean()-Y</th>\n",
       "      <th>tBodyAcc-mean()-Z</th>\n",
       "      <th>tBodyAcc-std()-X</th>\n",
       "      <th>tBodyAcc-std()-Y</th>\n",
       "      <th>tBodyAcc-std()-Z</th>\n",
       "      <th>tBodyAcc-mad()-X</th>\n",
       "      <th>tBodyAcc-mad()-Y</th>\n",
       "      <th>tBodyAcc-mad()-Z</th>\n",
       "      <th>tBodyAcc-max()-X</th>\n",
       "      <th>...</th>\n",
       "      <th>fBodyBodyGyroJerkMag-meanFreq()</th>\n",
       "      <th>fBodyBodyGyroJerkMag-skewness()</th>\n",
       "      <th>fBodyBodyGyroJerkMag-kurtosis()</th>\n",
       "      <th>angle(tBodyAccMean,gravity)</th>\n",
       "      <th>angle(tBodyAccJerkMean),gravityMean)</th>\n",
       "      <th>angle(tBodyGyroMean,gravityMean)</th>\n",
       "      <th>angle(tBodyGyroJerkMean,gravityMean)</th>\n",
       "      <th>angle(X,gravityMean)</th>\n",
       "      <th>angle(Y,gravityMean)</th>\n",
       "      <th>angle(Z,gravityMean)</th>\n",
       "    </tr>\n",
       "  </thead>\n",
       "  <tbody>\n",
       "    <tr>\n",
       "      <th>tBodyAcc-mean()-X</th>\n",
       "      <td>1.000000</td>\n",
       "      <td>0.128037</td>\n",
       "      <td>-0.230302</td>\n",
       "      <td>0.004590</td>\n",
       "      <td>-0.016785</td>\n",
       "      <td>-0.036071</td>\n",
       "      <td>0.010303</td>\n",
       "      <td>-0.017488</td>\n",
       "      <td>-0.038805</td>\n",
       "      <td>0.046943</td>\n",
       "      <td>...</td>\n",
       "      <td>0.029901</td>\n",
       "      <td>-0.006179</td>\n",
       "      <td>-0.002255</td>\n",
       "      <td>-0.552989</td>\n",
       "      <td>0.015754</td>\n",
       "      <td>0.036047</td>\n",
       "      <td>0.034296</td>\n",
       "      <td>-0.041021</td>\n",
       "      <td>0.034053</td>\n",
       "      <td>0.030656</td>\n",
       "    </tr>\n",
       "    <tr>\n",
       "      <th>tBodyAcc-mean()-Y</th>\n",
       "      <td>0.128037</td>\n",
       "      <td>1.000000</td>\n",
       "      <td>-0.029882</td>\n",
       "      <td>-0.046352</td>\n",
       "      <td>-0.046996</td>\n",
       "      <td>-0.054153</td>\n",
       "      <td>-0.045247</td>\n",
       "      <td>-0.047673</td>\n",
       "      <td>-0.055524</td>\n",
       "      <td>-0.039445</td>\n",
       "      <td>...</td>\n",
       "      <td>-0.014402</td>\n",
       "      <td>-0.000649</td>\n",
       "      <td>-0.002842</td>\n",
       "      <td>0.077750</td>\n",
       "      <td>-0.027567</td>\n",
       "      <td>0.013241</td>\n",
       "      <td>0.077627</td>\n",
       "      <td>-0.007513</td>\n",
       "      <td>-0.005616</td>\n",
       "      <td>-0.016233</td>\n",
       "    </tr>\n",
       "    <tr>\n",
       "      <th>tBodyAcc-mean()-Z</th>\n",
       "      <td>-0.230302</td>\n",
       "      <td>-0.029882</td>\n",
       "      <td>1.000000</td>\n",
       "      <td>-0.024185</td>\n",
       "      <td>-0.023745</td>\n",
       "      <td>-0.015632</td>\n",
       "      <td>-0.022872</td>\n",
       "      <td>-0.022966</td>\n",
       "      <td>-0.009577</td>\n",
       "      <td>-0.040218</td>\n",
       "      <td>...</td>\n",
       "      <td>-0.015358</td>\n",
       "      <td>0.023050</td>\n",
       "      <td>0.023122</td>\n",
       "      <td>0.055020</td>\n",
       "      <td>-0.042083</td>\n",
       "      <td>-0.066233</td>\n",
       "      <td>-0.030748</td>\n",
       "      <td>0.003215</td>\n",
       "      <td>-0.012986</td>\n",
       "      <td>-0.028406</td>\n",
       "    </tr>\n",
       "    <tr>\n",
       "      <th>tBodyAcc-std()-X</th>\n",
       "      <td>0.004590</td>\n",
       "      <td>-0.046352</td>\n",
       "      <td>-0.024185</td>\n",
       "      <td>1.000000</td>\n",
       "      <td>0.922525</td>\n",
       "      <td>0.861910</td>\n",
       "      <td>0.998662</td>\n",
       "      <td>0.916087</td>\n",
       "      <td>0.856497</td>\n",
       "      <td>0.981226</td>\n",
       "      <td>...</td>\n",
       "      <td>-0.068807</td>\n",
       "      <td>0.165552</td>\n",
       "      <td>0.135171</td>\n",
       "      <td>-0.034334</td>\n",
       "      <td>-0.017096</td>\n",
       "      <td>0.027464</td>\n",
       "      <td>-0.027123</td>\n",
       "      <td>-0.374104</td>\n",
       "      <td>0.449425</td>\n",
       "      <td>0.393063</td>\n",
       "    </tr>\n",
       "    <tr>\n",
       "      <th>tBodyAcc-std()-Y</th>\n",
       "      <td>-0.016785</td>\n",
       "      <td>-0.046996</td>\n",
       "      <td>-0.023745</td>\n",
       "      <td>0.922525</td>\n",
       "      <td>1.000000</td>\n",
       "      <td>0.888259</td>\n",
       "      <td>0.918561</td>\n",
       "      <td>0.997510</td>\n",
       "      <td>0.887052</td>\n",
       "      <td>0.911137</td>\n",
       "      <td>...</td>\n",
       "      <td>-0.109941</td>\n",
       "      <td>0.220279</td>\n",
       "      <td>0.191164</td>\n",
       "      <td>-0.020806</td>\n",
       "      <td>-0.006605</td>\n",
       "      <td>0.001902</td>\n",
       "      <td>-0.015784</td>\n",
       "      <td>-0.381391</td>\n",
       "      <td>0.506106</td>\n",
       "      <td>0.425511</td>\n",
       "    </tr>\n",
       "    <tr>\n",
       "      <th>...</th>\n",
       "      <td>...</td>\n",
       "      <td>...</td>\n",
       "      <td>...</td>\n",
       "      <td>...</td>\n",
       "      <td>...</td>\n",
       "      <td>...</td>\n",
       "      <td>...</td>\n",
       "      <td>...</td>\n",
       "      <td>...</td>\n",
       "      <td>...</td>\n",
       "      <td>...</td>\n",
       "      <td>...</td>\n",
       "      <td>...</td>\n",
       "      <td>...</td>\n",
       "      <td>...</td>\n",
       "      <td>...</td>\n",
       "      <td>...</td>\n",
       "      <td>...</td>\n",
       "      <td>...</td>\n",
       "      <td>...</td>\n",
       "      <td>...</td>\n",
       "    </tr>\n",
       "    <tr>\n",
       "      <th>angle(tBodyGyroMean,gravityMean)</th>\n",
       "      <td>0.036047</td>\n",
       "      <td>0.013241</td>\n",
       "      <td>-0.066233</td>\n",
       "      <td>0.027464</td>\n",
       "      <td>0.001902</td>\n",
       "      <td>-0.004984</td>\n",
       "      <td>0.027729</td>\n",
       "      <td>-0.002924</td>\n",
       "      <td>-0.009873</td>\n",
       "      <td>0.033533</td>\n",
       "      <td>...</td>\n",
       "      <td>-0.029273</td>\n",
       "      <td>0.042123</td>\n",
       "      <td>0.035684</td>\n",
       "      <td>-0.013009</td>\n",
       "      <td>0.010679</td>\n",
       "      <td>1.000000</td>\n",
       "      <td>-0.112454</td>\n",
       "      <td>-0.007095</td>\n",
       "      <td>-0.006444</td>\n",
       "      <td>-0.015380</td>\n",
       "    </tr>\n",
       "    <tr>\n",
       "      <th>angle(tBodyGyroJerkMean,gravityMean)</th>\n",
       "      <td>0.034296</td>\n",
       "      <td>0.077627</td>\n",
       "      <td>-0.030748</td>\n",
       "      <td>-0.027123</td>\n",
       "      <td>-0.015784</td>\n",
       "      <td>-0.012196</td>\n",
       "      <td>-0.027097</td>\n",
       "      <td>-0.013411</td>\n",
       "      <td>-0.012800</td>\n",
       "      <td>-0.030908</td>\n",
       "      <td>...</td>\n",
       "      <td>-0.002618</td>\n",
       "      <td>-0.013065</td>\n",
       "      <td>-0.011829</td>\n",
       "      <td>-0.027478</td>\n",
       "      <td>0.023605</td>\n",
       "      <td>-0.112454</td>\n",
       "      <td>1.000000</td>\n",
       "      <td>0.024822</td>\n",
       "      <td>-0.004582</td>\n",
       "      <td>-0.012549</td>\n",
       "    </tr>\n",
       "    <tr>\n",
       "      <th>angle(X,gravityMean)</th>\n",
       "      <td>-0.041021</td>\n",
       "      <td>-0.007513</td>\n",
       "      <td>0.003215</td>\n",
       "      <td>-0.374104</td>\n",
       "      <td>-0.381391</td>\n",
       "      <td>-0.353271</td>\n",
       "      <td>-0.371168</td>\n",
       "      <td>-0.378013</td>\n",
       "      <td>-0.355836</td>\n",
       "      <td>-0.384244</td>\n",
       "      <td>...</td>\n",
       "      <td>0.087571</td>\n",
       "      <td>-0.085226</td>\n",
       "      <td>-0.081971</td>\n",
       "      <td>0.008050</td>\n",
       "      <td>0.017534</td>\n",
       "      <td>-0.007095</td>\n",
       "      <td>0.024822</td>\n",
       "      <td>1.000000</td>\n",
       "      <td>-0.748249</td>\n",
       "      <td>-0.635231</td>\n",
       "    </tr>\n",
       "    <tr>\n",
       "      <th>angle(Y,gravityMean)</th>\n",
       "      <td>0.034053</td>\n",
       "      <td>-0.005616</td>\n",
       "      <td>-0.012986</td>\n",
       "      <td>0.449425</td>\n",
       "      <td>0.506106</td>\n",
       "      <td>0.459092</td>\n",
       "      <td>0.444926</td>\n",
       "      <td>0.507947</td>\n",
       "      <td>0.460345</td>\n",
       "      <td>0.458832</td>\n",
       "      <td>...</td>\n",
       "      <td>-0.105752</td>\n",
       "      <td>0.087671</td>\n",
       "      <td>0.078010</td>\n",
       "      <td>0.003082</td>\n",
       "      <td>-0.007256</td>\n",
       "      <td>-0.006444</td>\n",
       "      <td>-0.004582</td>\n",
       "      <td>-0.748249</td>\n",
       "      <td>1.000000</td>\n",
       "      <td>0.545614</td>\n",
       "    </tr>\n",
       "    <tr>\n",
       "      <th>angle(Z,gravityMean)</th>\n",
       "      <td>0.030656</td>\n",
       "      <td>-0.016233</td>\n",
       "      <td>-0.028406</td>\n",
       "      <td>0.393063</td>\n",
       "      <td>0.425511</td>\n",
       "      <td>0.483424</td>\n",
       "      <td>0.389481</td>\n",
       "      <td>0.424479</td>\n",
       "      <td>0.480032</td>\n",
       "      <td>0.402873</td>\n",
       "      <td>...</td>\n",
       "      <td>-0.061105</td>\n",
       "      <td>0.058759</td>\n",
       "      <td>0.054008</td>\n",
       "      <td>-0.003242</td>\n",
       "      <td>-0.013130</td>\n",
       "      <td>-0.015380</td>\n",
       "      <td>-0.012549</td>\n",
       "      <td>-0.635231</td>\n",
       "      <td>0.545614</td>\n",
       "      <td>1.000000</td>\n",
       "    </tr>\n",
       "  </tbody>\n",
       "</table>\n",
       "<p>561 rows × 561 columns</p>\n",
       "</div>"
      ],
      "text/plain": [
       "                                      tBodyAcc-mean()-X  tBodyAcc-mean()-Y  \\\n",
       "tBodyAcc-mean()-X                              1.000000           0.128037   \n",
       "tBodyAcc-mean()-Y                              0.128037           1.000000   \n",
       "tBodyAcc-mean()-Z                             -0.230302          -0.029882   \n",
       "tBodyAcc-std()-X                               0.004590          -0.046352   \n",
       "tBodyAcc-std()-Y                              -0.016785          -0.046996   \n",
       "...                                                 ...                ...   \n",
       "angle(tBodyGyroMean,gravityMean)               0.036047           0.013241   \n",
       "angle(tBodyGyroJerkMean,gravityMean)           0.034296           0.077627   \n",
       "angle(X,gravityMean)                          -0.041021          -0.007513   \n",
       "angle(Y,gravityMean)                           0.034053          -0.005616   \n",
       "angle(Z,gravityMean)                           0.030656          -0.016233   \n",
       "\n",
       "                                      tBodyAcc-mean()-Z  tBodyAcc-std()-X  \\\n",
       "tBodyAcc-mean()-X                             -0.230302          0.004590   \n",
       "tBodyAcc-mean()-Y                             -0.029882         -0.046352   \n",
       "tBodyAcc-mean()-Z                              1.000000         -0.024185   \n",
       "tBodyAcc-std()-X                              -0.024185          1.000000   \n",
       "tBodyAcc-std()-Y                              -0.023745          0.922525   \n",
       "...                                                 ...               ...   \n",
       "angle(tBodyGyroMean,gravityMean)              -0.066233          0.027464   \n",
       "angle(tBodyGyroJerkMean,gravityMean)          -0.030748         -0.027123   \n",
       "angle(X,gravityMean)                           0.003215         -0.374104   \n",
       "angle(Y,gravityMean)                          -0.012986          0.449425   \n",
       "angle(Z,gravityMean)                          -0.028406          0.393063   \n",
       "\n",
       "                                      tBodyAcc-std()-Y  tBodyAcc-std()-Z  \\\n",
       "tBodyAcc-mean()-X                            -0.016785         -0.036071   \n",
       "tBodyAcc-mean()-Y                            -0.046996         -0.054153   \n",
       "tBodyAcc-mean()-Z                            -0.023745         -0.015632   \n",
       "tBodyAcc-std()-X                              0.922525          0.861910   \n",
       "tBodyAcc-std()-Y                              1.000000          0.888259   \n",
       "...                                                ...               ...   \n",
       "angle(tBodyGyroMean,gravityMean)              0.001902         -0.004984   \n",
       "angle(tBodyGyroJerkMean,gravityMean)         -0.015784         -0.012196   \n",
       "angle(X,gravityMean)                         -0.381391         -0.353271   \n",
       "angle(Y,gravityMean)                          0.506106          0.459092   \n",
       "angle(Z,gravityMean)                          0.425511          0.483424   \n",
       "\n",
       "                                      tBodyAcc-mad()-X  tBodyAcc-mad()-Y  \\\n",
       "tBodyAcc-mean()-X                             0.010303         -0.017488   \n",
       "tBodyAcc-mean()-Y                            -0.045247         -0.047673   \n",
       "tBodyAcc-mean()-Z                            -0.022872         -0.022966   \n",
       "tBodyAcc-std()-X                              0.998662          0.916087   \n",
       "tBodyAcc-std()-Y                              0.918561          0.997510   \n",
       "...                                                ...               ...   \n",
       "angle(tBodyGyroMean,gravityMean)              0.027729         -0.002924   \n",
       "angle(tBodyGyroJerkMean,gravityMean)         -0.027097         -0.013411   \n",
       "angle(X,gravityMean)                         -0.371168         -0.378013   \n",
       "angle(Y,gravityMean)                          0.444926          0.507947   \n",
       "angle(Z,gravityMean)                          0.389481          0.424479   \n",
       "\n",
       "                                      tBodyAcc-mad()-Z  tBodyAcc-max()-X  ...  \\\n",
       "tBodyAcc-mean()-X                            -0.038805          0.046943  ...   \n",
       "tBodyAcc-mean()-Y                            -0.055524         -0.039445  ...   \n",
       "tBodyAcc-mean()-Z                            -0.009577         -0.040218  ...   \n",
       "tBodyAcc-std()-X                              0.856497          0.981226  ...   \n",
       "tBodyAcc-std()-Y                              0.887052          0.911137  ...   \n",
       "...                                                ...               ...  ...   \n",
       "angle(tBodyGyroMean,gravityMean)             -0.009873          0.033533  ...   \n",
       "angle(tBodyGyroJerkMean,gravityMean)         -0.012800         -0.030908  ...   \n",
       "angle(X,gravityMean)                         -0.355836         -0.384244  ...   \n",
       "angle(Y,gravityMean)                          0.460345          0.458832  ...   \n",
       "angle(Z,gravityMean)                          0.480032          0.402873  ...   \n",
       "\n",
       "                                      fBodyBodyGyroJerkMag-meanFreq()  \\\n",
       "tBodyAcc-mean()-X                                            0.029901   \n",
       "tBodyAcc-mean()-Y                                           -0.014402   \n",
       "tBodyAcc-mean()-Z                                           -0.015358   \n",
       "tBodyAcc-std()-X                                            -0.068807   \n",
       "tBodyAcc-std()-Y                                            -0.109941   \n",
       "...                                                               ...   \n",
       "angle(tBodyGyroMean,gravityMean)                            -0.029273   \n",
       "angle(tBodyGyroJerkMean,gravityMean)                        -0.002618   \n",
       "angle(X,gravityMean)                                         0.087571   \n",
       "angle(Y,gravityMean)                                        -0.105752   \n",
       "angle(Z,gravityMean)                                        -0.061105   \n",
       "\n",
       "                                      fBodyBodyGyroJerkMag-skewness()  \\\n",
       "tBodyAcc-mean()-X                                           -0.006179   \n",
       "tBodyAcc-mean()-Y                                           -0.000649   \n",
       "tBodyAcc-mean()-Z                                            0.023050   \n",
       "tBodyAcc-std()-X                                             0.165552   \n",
       "tBodyAcc-std()-Y                                             0.220279   \n",
       "...                                                               ...   \n",
       "angle(tBodyGyroMean,gravityMean)                             0.042123   \n",
       "angle(tBodyGyroJerkMean,gravityMean)                        -0.013065   \n",
       "angle(X,gravityMean)                                        -0.085226   \n",
       "angle(Y,gravityMean)                                         0.087671   \n",
       "angle(Z,gravityMean)                                         0.058759   \n",
       "\n",
       "                                      fBodyBodyGyroJerkMag-kurtosis()  \\\n",
       "tBodyAcc-mean()-X                                           -0.002255   \n",
       "tBodyAcc-mean()-Y                                           -0.002842   \n",
       "tBodyAcc-mean()-Z                                            0.023122   \n",
       "tBodyAcc-std()-X                                             0.135171   \n",
       "tBodyAcc-std()-Y                                             0.191164   \n",
       "...                                                               ...   \n",
       "angle(tBodyGyroMean,gravityMean)                             0.035684   \n",
       "angle(tBodyGyroJerkMean,gravityMean)                        -0.011829   \n",
       "angle(X,gravityMean)                                        -0.081971   \n",
       "angle(Y,gravityMean)                                         0.078010   \n",
       "angle(Z,gravityMean)                                         0.054008   \n",
       "\n",
       "                                      angle(tBodyAccMean,gravity)  \\\n",
       "tBodyAcc-mean()-X                                       -0.552989   \n",
       "tBodyAcc-mean()-Y                                        0.077750   \n",
       "tBodyAcc-mean()-Z                                        0.055020   \n",
       "tBodyAcc-std()-X                                        -0.034334   \n",
       "tBodyAcc-std()-Y                                        -0.020806   \n",
       "...                                                           ...   \n",
       "angle(tBodyGyroMean,gravityMean)                        -0.013009   \n",
       "angle(tBodyGyroJerkMean,gravityMean)                    -0.027478   \n",
       "angle(X,gravityMean)                                     0.008050   \n",
       "angle(Y,gravityMean)                                     0.003082   \n",
       "angle(Z,gravityMean)                                    -0.003242   \n",
       "\n",
       "                                      angle(tBodyAccJerkMean),gravityMean)  \\\n",
       "tBodyAcc-mean()-X                                                 0.015754   \n",
       "tBodyAcc-mean()-Y                                                -0.027567   \n",
       "tBodyAcc-mean()-Z                                                -0.042083   \n",
       "tBodyAcc-std()-X                                                 -0.017096   \n",
       "tBodyAcc-std()-Y                                                 -0.006605   \n",
       "...                                                                    ...   \n",
       "angle(tBodyGyroMean,gravityMean)                                  0.010679   \n",
       "angle(tBodyGyroJerkMean,gravityMean)                              0.023605   \n",
       "angle(X,gravityMean)                                              0.017534   \n",
       "angle(Y,gravityMean)                                             -0.007256   \n",
       "angle(Z,gravityMean)                                             -0.013130   \n",
       "\n",
       "                                      angle(tBodyGyroMean,gravityMean)  \\\n",
       "tBodyAcc-mean()-X                                             0.036047   \n",
       "tBodyAcc-mean()-Y                                             0.013241   \n",
       "tBodyAcc-mean()-Z                                            -0.066233   \n",
       "tBodyAcc-std()-X                                              0.027464   \n",
       "tBodyAcc-std()-Y                                              0.001902   \n",
       "...                                                                ...   \n",
       "angle(tBodyGyroMean,gravityMean)                              1.000000   \n",
       "angle(tBodyGyroJerkMean,gravityMean)                         -0.112454   \n",
       "angle(X,gravityMean)                                         -0.007095   \n",
       "angle(Y,gravityMean)                                         -0.006444   \n",
       "angle(Z,gravityMean)                                         -0.015380   \n",
       "\n",
       "                                      angle(tBodyGyroJerkMean,gravityMean)  \\\n",
       "tBodyAcc-mean()-X                                                 0.034296   \n",
       "tBodyAcc-mean()-Y                                                 0.077627   \n",
       "tBodyAcc-mean()-Z                                                -0.030748   \n",
       "tBodyAcc-std()-X                                                 -0.027123   \n",
       "tBodyAcc-std()-Y                                                 -0.015784   \n",
       "...                                                                    ...   \n",
       "angle(tBodyGyroMean,gravityMean)                                 -0.112454   \n",
       "angle(tBodyGyroJerkMean,gravityMean)                              1.000000   \n",
       "angle(X,gravityMean)                                              0.024822   \n",
       "angle(Y,gravityMean)                                             -0.004582   \n",
       "angle(Z,gravityMean)                                             -0.012549   \n",
       "\n",
       "                                      angle(X,gravityMean)  \\\n",
       "tBodyAcc-mean()-X                                -0.041021   \n",
       "tBodyAcc-mean()-Y                                -0.007513   \n",
       "tBodyAcc-mean()-Z                                 0.003215   \n",
       "tBodyAcc-std()-X                                 -0.374104   \n",
       "tBodyAcc-std()-Y                                 -0.381391   \n",
       "...                                                    ...   \n",
       "angle(tBodyGyroMean,gravityMean)                 -0.007095   \n",
       "angle(tBodyGyroJerkMean,gravityMean)              0.024822   \n",
       "angle(X,gravityMean)                              1.000000   \n",
       "angle(Y,gravityMean)                             -0.748249   \n",
       "angle(Z,gravityMean)                             -0.635231   \n",
       "\n",
       "                                      angle(Y,gravityMean)  \\\n",
       "tBodyAcc-mean()-X                                 0.034053   \n",
       "tBodyAcc-mean()-Y                                -0.005616   \n",
       "tBodyAcc-mean()-Z                                -0.012986   \n",
       "tBodyAcc-std()-X                                  0.449425   \n",
       "tBodyAcc-std()-Y                                  0.506106   \n",
       "...                                                    ...   \n",
       "angle(tBodyGyroMean,gravityMean)                 -0.006444   \n",
       "angle(tBodyGyroJerkMean,gravityMean)             -0.004582   \n",
       "angle(X,gravityMean)                             -0.748249   \n",
       "angle(Y,gravityMean)                              1.000000   \n",
       "angle(Z,gravityMean)                              0.545614   \n",
       "\n",
       "                                      angle(Z,gravityMean)  \n",
       "tBodyAcc-mean()-X                                 0.030656  \n",
       "tBodyAcc-mean()-Y                                -0.016233  \n",
       "tBodyAcc-mean()-Z                                -0.028406  \n",
       "tBodyAcc-std()-X                                  0.393063  \n",
       "tBodyAcc-std()-Y                                  0.425511  \n",
       "...                                                    ...  \n",
       "angle(tBodyGyroMean,gravityMean)                 -0.015380  \n",
       "angle(tBodyGyroJerkMean,gravityMean)             -0.012549  \n",
       "angle(X,gravityMean)                             -0.635231  \n",
       "angle(Y,gravityMean)                              0.545614  \n",
       "angle(Z,gravityMean)                              1.000000  \n",
       "\n",
       "[561 rows x 561 columns]"
      ]
     },
     "execution_count": 10,
     "metadata": {},
     "output_type": "execute_result"
    }
   ],
   "source": [
    "corr_values"
   ]
  },
  {
   "cell_type": "code",
   "execution_count": 11,
   "metadata": {},
   "outputs": [],
   "source": [
    "#通过清空对角线以下的所有数据来简化\n",
    "tril_index = np.tril_indices_from(corr_values)\n",
    "\n",
    "# 没用的值设置为 NaNs\n",
    "for coord in zip(*tril_index):\n",
    "    corr_values.iloc[coord[0], coord[1]] = np.NaN\n",
    "    \n",
    "#stack()实现输入数个数组不同方式的堆叠，返回堆叠后的1个数组。stack()会增加数组的维度\n",
    "corr_values = (corr_values.stack().to_frame().reset_index().rename(columns={'level_0':'feature1','level_1':'feature2',0:'correlation'}))\n",
    "#使用set_names可以将 index 中的名称进行更改\n",
    "\n",
    "#获取排序后的绝对值\n",
    "corr_values['abs_correlation'] = corr_values.correlation.abs()"
   ]
  },
  {
   "cell_type": "code",
   "execution_count": 12,
   "metadata": {},
   "outputs": [],
   "source": [
    "# corr_values.stack().to_frame()# series --> dataframe "
   ]
  },
  {
   "cell_type": "code",
   "execution_count": 13,
   "metadata": {},
   "outputs": [],
   "source": [
    "# corr_values.stack().to_frame().reset_index()"
   ]
  },
  {
   "cell_type": "markdown",
   "metadata": {},
   "source": [
    "绝对值的直方图"
   ]
  },
  {
   "cell_type": "code",
   "execution_count": 14,
   "metadata": {},
   "outputs": [
    {
     "data": {
      "image/png": "[encoded data removed]",
      "text/plain": [
       "<Figure size 432x288 with 1 Axes>"
      ]
     },
     "metadata": {},
     "output_type": "display_data"
    }
   ],
   "source": [
    "import matplotlib.pyplot as plt\n",
    "import seaborn as sns\n",
    "%matplotlib inline\n",
    "\n",
    "sns.set_context('talk')\n",
    "sns.set_style('white')\n",
    "sns.set_palette('dark')\n",
    "\n",
    "ax = corr_values.abs_correlation.hist(bins=50)\n",
    "\n",
    "ax.set(xlabel='Absolute Correlation', ylabel='Frequency');"
   ]
  },
  {
   "cell_type": "code",
   "execution_count": 15,
   "metadata": {},
   "outputs": [
    {
     "data": {
      "text/html": [
       "<div>\n",
       "<style scoped>\n",
       "    .dataframe tbody tr th:only-of-type {\n",
       "        vertical-align: middle;\n",
       "    }\n",
       "\n",
       "    .dataframe tbody tr th {\n",
       "        vertical-align: top;\n",
       "    }\n",
       "\n",
       "    .dataframe thead th {\n",
       "        text-align: right;\n",
       "    }\n",
       "</style>\n",
       "<table border=\"1\" class=\"dataframe\">\n",
       "  <thead>\n",
       "    <tr style=\"text-align: right;\">\n",
       "      <th></th>\n",
       "      <th>feature1</th>\n",
       "      <th>feature2</th>\n",
       "      <th>correlation</th>\n",
       "      <th>abs_correlation</th>\n",
       "    </tr>\n",
       "  </thead>\n",
       "  <tbody>\n",
       "    <tr>\n",
       "      <th>156894</th>\n",
       "      <td>fBodyBodyGyroJerkMag-mean()</td>\n",
       "      <td>fBodyBodyGyroJerkMag-sma()</td>\n",
       "      <td>1.000000</td>\n",
       "      <td>1.000000</td>\n",
       "    </tr>\n",
       "    <tr>\n",
       "      <th>93902</th>\n",
       "      <td>tBodyAccMag-sma()</td>\n",
       "      <td>tGravityAccMag-sma()</td>\n",
       "      <td>1.000000</td>\n",
       "      <td>1.000000</td>\n",
       "    </tr>\n",
       "    <tr>\n",
       "      <th>101139</th>\n",
       "      <td>tBodyAccJerkMag-mean()</td>\n",
       "      <td>tBodyAccJerkMag-sma()</td>\n",
       "      <td>1.000000</td>\n",
       "      <td>1.000000</td>\n",
       "    </tr>\n",
       "    <tr>\n",
       "      <th>96706</th>\n",
       "      <td>tGravityAccMag-mean()</td>\n",
       "      <td>tGravityAccMag-sma()</td>\n",
       "      <td>1.000000</td>\n",
       "      <td>1.000000</td>\n",
       "    </tr>\n",
       "    <tr>\n",
       "      <th>94257</th>\n",
       "      <td>tBodyAccMag-energy()</td>\n",
       "      <td>tGravityAccMag-energy()</td>\n",
       "      <td>1.000000</td>\n",
       "      <td>1.000000</td>\n",
       "    </tr>\n",
       "    <tr>\n",
       "      <th>...</th>\n",
       "      <td>...</td>\n",
       "      <td>...</td>\n",
       "      <td>...</td>\n",
       "      <td>...</td>\n",
       "    </tr>\n",
       "    <tr>\n",
       "      <th>22657</th>\n",
       "      <td>tGravityAcc-mean()-Y</td>\n",
       "      <td>angle(Y,gravityMean)</td>\n",
       "      <td>-0.993425</td>\n",
       "      <td>0.993425</td>\n",
       "    </tr>\n",
       "    <tr>\n",
       "      <th>39225</th>\n",
       "      <td>tGravityAcc-arCoeff()-Z,3</td>\n",
       "      <td>tGravityAcc-arCoeff()-Z,4</td>\n",
       "      <td>-0.994267</td>\n",
       "      <td>0.994267</td>\n",
       "    </tr>\n",
       "    <tr>\n",
       "      <th>38739</th>\n",
       "      <td>tGravityAcc-arCoeff()-Z,2</td>\n",
       "      <td>tGravityAcc-arCoeff()-Z,3</td>\n",
       "      <td>-0.994628</td>\n",
       "      <td>0.994628</td>\n",
       "    </tr>\n",
       "    <tr>\n",
       "      <th>23176</th>\n",
       "      <td>tGravityAcc-mean()-Z</td>\n",
       "      <td>angle(Z,gravityMean)</td>\n",
       "      <td>-0.994764</td>\n",
       "      <td>0.994764</td>\n",
       "    </tr>\n",
       "    <tr>\n",
       "      <th>38252</th>\n",
       "      <td>tGravityAcc-arCoeff()-Z,1</td>\n",
       "      <td>tGravityAcc-arCoeff()-Z,2</td>\n",
       "      <td>-0.995195</td>\n",
       "      <td>0.995195</td>\n",
       "    </tr>\n",
       "  </tbody>\n",
       "</table>\n",
       "<p>22815 rows × 4 columns</p>\n",
       "</div>"
      ],
      "text/plain": [
       "                           feature1                    feature2  correlation  \\\n",
       "156894  fBodyBodyGyroJerkMag-mean()  fBodyBodyGyroJerkMag-sma()     1.000000   \n",
       "93902             tBodyAccMag-sma()        tGravityAccMag-sma()     1.000000   \n",
       "101139       tBodyAccJerkMag-mean()       tBodyAccJerkMag-sma()     1.000000   \n",
       "96706         tGravityAccMag-mean()        tGravityAccMag-sma()     1.000000   \n",
       "94257          tBodyAccMag-energy()     tGravityAccMag-energy()     1.000000   \n",
       "...                             ...                         ...          ...   \n",
       "22657          tGravityAcc-mean()-Y        angle(Y,gravityMean)    -0.993425   \n",
       "39225     tGravityAcc-arCoeff()-Z,3   tGravityAcc-arCoeff()-Z,4    -0.994267   \n",
       "38739     tGravityAcc-arCoeff()-Z,2   tGravityAcc-arCoeff()-Z,3    -0.994628   \n",
       "23176          tGravityAcc-mean()-Z        angle(Z,gravityMean)    -0.994764   \n",
       "38252     tGravityAcc-arCoeff()-Z,1   tGravityAcc-arCoeff()-Z,2    -0.995195   \n",
       "\n",
       "        abs_correlation  \n",
       "156894         1.000000  \n",
       "93902          1.000000  \n",
       "101139         1.000000  \n",
       "96706          1.000000  \n",
       "94257          1.000000  \n",
       "...                 ...  \n",
       "22657          0.993425  \n",
       "39225          0.994267  \n",
       "38739          0.994628  \n",
       "23176          0.994764  \n",
       "38252          0.995195  \n",
       "\n",
       "[22815 rows x 4 columns]"
      ]
     },
     "execution_count": 15,
     "metadata": {},
     "output_type": "execute_result"
    }
   ],
   "source": [
    "#相关性最强的值\n",
    "corr_values.sort_values('correlation', ascending=False).query('abs_correlation>0.8')"
   ]
  },
  {
   "cell_type": "markdown",
   "metadata": {},
   "source": [
    "- 将数据拆分为训练和测试数据集。可以使用任何方法完成，但请考虑使用 Scikit-learn 的 StratifiedShuffleSplit 来保持相同的预测类比率。\n",
    "- 不管使用什么方法来分割数据，比较训练和测试分割中的类比例\n",
    "\n",
    "from  sklearn.model_selection import StratifiedShuffleSplit\n",
    "StratifiedShuffleSplit(n_splits=10,test_size=None,train_size=None, random_state=None)\n",
    "\n",
    "参数 n_splits是将训练数据分成train/test对的组数，可根据需要进行设置，默认为10\n",
    "\n",
    "函数作用描述\n",
    "\n",
    "1.其产生指定数量的独立的train/test数据集划分数据集划分成n组。\n",
    "\n",
    "2.首先将样本随机打乱，然后根据设置参数划分出train/test对。\n",
    "\n",
    "3.其创建的每一组划分将保证每组类比比例相同。即第一组训练数据类别比例为2:1，则后面每组类别都满足这个比例"
   ]
  },
  {
   "cell_type": "code",
   "execution_count": 16,
   "metadata": {},
   "outputs": [],
   "source": [
    "from sklearn.model_selection import StratifiedShuffleSplit\n",
    "\n",
    "\n",
    "#获取拆分后的索引 \n",
    "strat_shuf_split = StratifiedShuffleSplit(n_splits=1,test_size=0.3, random_state=42)\n",
    "\n",
    "train_idx, test_idx = next(strat_shuf_split.split(data[feature_cols], data.Activity))\n",
    "\n",
    "# 创建dataframes\n",
    "X_train = data.loc[train_idx, feature_cols]\n",
    "y_train = data.loc[train_idx, 'Activity']\n",
    "\n",
    "X_test  = data.loc[test_idx, feature_cols]\n",
    "y_test  = data.loc[test_idx, 'Activity']"
   ]
  },
  {
   "cell_type": "code",
   "execution_count": 17,
   "metadata": {},
   "outputs": [
    {
     "data": {
      "text/plain": [
       "0    0.188792\n",
       "2    0.185046\n",
       "1    0.172562\n",
       "3    0.167152\n",
       "5    0.149951\n",
       "4    0.136496\n",
       "Name: Activity, dtype: float64"
      ]
     },
     "execution_count": 17,
     "metadata": {},
     "output_type": "execute_result"
    }
   ],
   "source": [
    "y_train.value_counts(normalize=True)"
   ]
  },
  {
   "cell_type": "code",
   "execution_count": 18,
   "metadata": {},
   "outputs": [
    {
     "data": {
      "text/plain": [
       "0    0.188673\n",
       "2    0.185113\n",
       "1    0.172492\n",
       "3    0.167314\n",
       "5    0.149838\n",
       "4    0.136570\n",
       "Name: Activity, dtype: float64"
      ]
     },
     "execution_count": 18,
     "metadata": {},
     "output_type": "execute_result"
    }
   ],
   "source": [
    "y_test.value_counts(normalize=True)"
   ]
  },
  {
   "cell_type": "markdown",
   "metadata": {},
   "source": [
    "- 使用所有特征拟合（没有任何正则化操作）逻辑回归模型。存储模型。\n",
    "- 使用交叉验证来确定超参数，使用 L1 和 L2 正则化拟合模型。还要存储这些模型中的每一个。\n",
    "请注意多分类模型、求解器和正则化的限制。\n",
    "正则化模型，尤其是 L1 模型，可能需要一段时间才能适应\n"
   ]
  },
  {
   "cell_type": "code",
   "execution_count": null,
   "metadata": {},
   "outputs": [],
   "source": []
  },
  {
   "cell_type": "markdown",
   "metadata": {},
   "source": [
    "算力有限，以下不便运算"
   ]
  },
  {
   "cell_type": "code",
   "execution_count": 19,
   "metadata": {},
   "outputs": [
    {
     "name": "stderr",
     "output_type": "stream",
     "text": [
      "H:\\Anaconda\\lib\\site-packages\\sklearn\\linear_model\\_logistic.py:765: ConvergenceWarning: lbfgs failed to converge (status=1):\n",
      "STOP: TOTAL NO. of ITERATIONS REACHED LIMIT.\n",
      "\n",
      "Increase the number of iterations (max_iter) or scale the data as shown in:\n",
      "    https://scikit-learn.org/stable/modules/preprocessing.html\n",
      "Please also refer to the documentation for alternative solver options:\n",
      "    https://scikit-learn.org/stable/modules/linear_model.html#logistic-regression\n",
      "  extra_warning_msg=_LOGISTIC_SOLVER_CONVERGENCE_MSG)\n"
     ]
    }
   ],
   "source": [
    "from sklearn.linear_model import LogisticRegression\n",
    "\n",
    "# 标准的logistic回归\n",
    "lr = LogisticRegression(max_iter = 5).fit(X_train, y_train )#默认为1000。"
   ]
  },
  {
   "cell_type": "code",
   "execution_count": 20,
   "metadata": {},
   "outputs": [
    {
     "data": {
      "text/plain": [
       "(7209, 561)"
      ]
     },
     "execution_count": 20,
     "metadata": {},
     "output_type": "execute_result"
    }
   ],
   "source": [
    "X_train.shape"
   ]
  },
  {
   "cell_type": "code",
   "execution_count": 21,
   "metadata": {},
   "outputs": [
    {
     "data": {
      "text/plain": [
       "1"
      ]
     },
     "execution_count": 21,
     "metadata": {},
     "output_type": "execute_result"
    }
   ],
   "source": [
    "1"
   ]
  },
  {
   "cell_type": "code",
   "execution_count": 22,
   "metadata": {},
   "outputs": [],
   "source": [
    "from sklearn.linear_model import LogisticRegressionCV\n",
    "LogisticRegressionCV?"
   ]
  },
  {
   "cell_type": "code",
   "execution_count": null,
   "metadata": {},
   "outputs": [],
   "source": [
    "from sklearn.linear_model import LogisticRegressionCV\n",
    "\n",
    "# L1  正则化logistic回归\n",
    "lr_l1 = LogisticRegressionCV(Cs=10, cv=4, penalty='l1', solver='liblinear',max_iter = 5).fit(X_train, y_train)"
   ]
  },
  {
   "cell_type": "markdown",
   "metadata": {},
   "source": [
    "参数优化方式：solver  \n",
    "当penalty为l1的时候，参数只能是：liblinear(坐标轴下降法)，lbfgs和cg都是关于目标函数的二阶泰勒展开,当penalty为l2的时候，参数可以是：lbfgs(拟牛顿法)、newton-cg(牛顿法变种)，  sag(minibatch) 、而liblinear通吃L1正则化和L2正则化     \n",
    "\n",
    "维度<10000时，lbfgs法比较好，维度>10000时cg法比较好，显卡计算的时候，lbfgs和cg都比seg快\n",
    "\n",
    "1. liblinear：使用了坐标轴下降法来迭代优化损失函数。\n",
    "\n",
    "2. lbfgs：拟牛顿法的一种，利用损失函数二阶导数矩阵即海森矩阵来迭代优化损失函数。\n",
    "\n",
    "3. newton-cg：也是牛顿法家族的一种，利用损失函数二阶导数矩阵即海森矩阵来迭代优化损失函数。\n",
    "\n",
    "4. sag：即随机平均梯度下降，是梯度下降法的变种，和普通梯度下降法的区别是每次迭代仅仅用一部分的样本来计算梯度，适合于样本数据多的时候，SAG是一种线性收敛算法，这个速度远比SGD快。关于SAG的理解.\n",
    "\n",
    "\n",
    "参考：https://blog.csdn.net/wangyuhao07/article/details/86152183"
   ]
  },
  {
   "cell_type": "code",
   "execution_count": null,
   "metadata": {},
   "outputs": [
    {
     "name": "stderr",
     "output_type": "stream",
     "text": [
      "H:\\Anaconda\\lib\\site-packages\\sklearn\\linear_model\\_sag.py:329: ConvergenceWarning: The max_iter was reached which means the coef_ did not converge\n",
      "  \"the coef_ did not converge\", ConvergenceWarning)\n",
      "H:\\Anaconda\\lib\\site-packages\\sklearn\\linear_model\\_sag.py:329: ConvergenceWarning: The max_iter was reached which means the coef_ did not converge\n",
      "  \"the coef_ did not converge\", ConvergenceWarning)\n",
      "H:\\Anaconda\\lib\\site-packages\\sklearn\\linear_model\\_sag.py:329: ConvergenceWarning: The max_iter was reached which means the coef_ did not converge\n",
      "  \"the coef_ did not converge\", ConvergenceWarning)\n",
      "H:\\Anaconda\\lib\\site-packages\\sklearn\\linear_model\\_sag.py:329: ConvergenceWarning: The max_iter was reached which means the coef_ did not converge\n",
      "  \"the coef_ did not converge\", ConvergenceWarning)\n",
      "H:\\Anaconda\\lib\\site-packages\\sklearn\\linear_model\\_sag.py:329: ConvergenceWarning: The max_iter was reached which means the coef_ did not converge\n",
      "  \"the coef_ did not converge\", ConvergenceWarning)\n",
      "H:\\Anaconda\\lib\\site-packages\\sklearn\\linear_model\\_sag.py:329: ConvergenceWarning: The max_iter was reached which means the coef_ did not converge\n",
      "  \"the coef_ did not converge\", ConvergenceWarning)\n",
      "H:\\Anaconda\\lib\\site-packages\\sklearn\\linear_model\\_sag.py:329: ConvergenceWarning: The max_iter was reached which means the coef_ did not converge\n",
      "  \"the coef_ did not converge\", ConvergenceWarning)\n",
      "H:\\Anaconda\\lib\\site-packages\\sklearn\\linear_model\\_sag.py:329: ConvergenceWarning: The max_iter was reached which means the coef_ did not converge\n",
      "  \"the coef_ did not converge\", ConvergenceWarning)\n",
      "H:\\Anaconda\\lib\\site-packages\\sklearn\\linear_model\\_sag.py:329: ConvergenceWarning: The max_iter was reached which means the coef_ did not converge\n",
      "  \"the coef_ did not converge\", ConvergenceWarning)\n",
      "H:\\Anaconda\\lib\\site-packages\\sklearn\\linear_model\\_sag.py:329: ConvergenceWarning: The max_iter was reached which means the coef_ did not converge\n",
      "  \"the coef_ did not converge\", ConvergenceWarning)\n",
      "H:\\Anaconda\\lib\\site-packages\\sklearn\\linear_model\\_sag.py:329: ConvergenceWarning: The max_iter was reached which means the coef_ did not converge\n",
      "  \"the coef_ did not converge\", ConvergenceWarning)\n",
      "H:\\Anaconda\\lib\\site-packages\\sklearn\\linear_model\\_sag.py:329: ConvergenceWarning: The max_iter was reached which means the coef_ did not converge\n",
      "  \"the coef_ did not converge\", ConvergenceWarning)\n",
      "H:\\Anaconda\\lib\\site-packages\\sklearn\\linear_model\\_sag.py:329: ConvergenceWarning: The max_iter was reached which means the coef_ did not converge\n",
      "  \"the coef_ did not converge\", ConvergenceWarning)\n",
      "H:\\Anaconda\\lib\\site-packages\\sklearn\\linear_model\\_sag.py:329: ConvergenceWarning: The max_iter was reached which means the coef_ did not converge\n",
      "  \"the coef_ did not converge\", ConvergenceWarning)\n",
      "H:\\Anaconda\\lib\\site-packages\\sklearn\\linear_model\\_sag.py:329: ConvergenceWarning: The max_iter was reached which means the coef_ did not converge\n",
      "  \"the coef_ did not converge\", ConvergenceWarning)\n",
      "H:\\Anaconda\\lib\\site-packages\\sklearn\\linear_model\\_sag.py:329: ConvergenceWarning: The max_iter was reached which means the coef_ did not converge\n",
      "  \"the coef_ did not converge\", ConvergenceWarning)\n",
      "H:\\Anaconda\\lib\\site-packages\\sklearn\\linear_model\\_sag.py:329: ConvergenceWarning: The max_iter was reached which means the coef_ did not converge\n",
      "  \"the coef_ did not converge\", ConvergenceWarning)\n",
      "H:\\Anaconda\\lib\\site-packages\\sklearn\\linear_model\\_sag.py:329: ConvergenceWarning: The max_iter was reached which means the coef_ did not converge\n",
      "  \"the coef_ did not converge\", ConvergenceWarning)\n"
     ]
    }
   ],
   "source": [
    "#使用不同的solvers参数 ‘newton-cg’, ‘lbfgs’, ‘sag’, ‘saga’ 并观察\n",
    "lr_l1_test = LogisticRegressionCV(Cs=10, cv=4, penalty='l1', solver='saga',max_iter = 5).fit(X_train, y_train)\n",
    "#Solver lbfgs supports only 'l2' or 'none' penalties, got l1 penalty."
   ]
  },
  {
   "cell_type": "code",
   "execution_count": null,
   "metadata": {
    "scrolled": true
   },
   "outputs": [],
   "source": [
    "# L2 正则化logistic回归\n",
    "lr_l2 = LogisticRegressionCV(Cs=10, cv=4, penalty='l2').fit(X_train, y_train)"
   ]
  },
  {
   "cell_type": "markdown",
   "metadata": {},
   "source": [
    "比较每个模型的系数大小。\n",
    "如果使用 one-vs-rest 拟合，则可以单独绘制每组系数"
   ]
  },
  {
   "cell_type": "code",
   "execution_count": null,
   "metadata": {},
   "outputs": [],
   "source": [
    "# 结合所有系数到dataframe\n",
    "coefficients = list()\n",
    "\n",
    "coeff_labels = ['lr', 'l1', 'l2']\n",
    "coeff_models = [lr, lr_l1, lr_l2]\n",
    "\n",
    "for lab,mod in zip(coeff_labels, coeff_models):\n",
    "    coeffs = mod.coef_\n",
    "    coeff_label = pd.MultiIndex(levels=[[lab], [0,1,2,3,4,5]], \n",
    "                                 labels=[[0,0,0,0,0,0], [0,1,2,3,4,5]])\n",
    "    coefficients.append(pd.DataFrame(coeffs.T, columns=coeff_label))\n",
    "\n",
    "coefficients = pd.concat(coefficients, axis=1)\n",
    "\n",
    "coefficients.sample(10)"
   ]
  },
  {
   "cell_type": "markdown",
   "metadata": {},
   "source": [
    "为每个多类系数准备六个单独的图"
   ]
  },
  {
   "cell_type": "code",
   "execution_count": null,
   "metadata": {},
   "outputs": [],
   "source": [
    "fig, axList = plt.subplots(nrows=3, ncols=2)\n",
    "axList = axList.flatten()\n",
    "fig.set_size_inches(10,10)\n",
    "\n",
    "\n",
    "for ax in enumerate(axList):\n",
    "    loc = ax[0]\n",
    "    ax = ax[1]\n",
    "    \n",
    "    data = coefficients.xs(loc, level=1, axis=1)\n",
    "    data.plot(marker='o', ls='', ms=2.0, ax=ax, legend=False)\n",
    "    \n",
    "    if ax is axList[0]:\n",
    "        ax.legend(loc=4)\n",
    "        \n",
    "    ax.set(title='Coefficient Set '+str(loc))\n",
    "\n",
    "plt.tight_layout()\n"
   ]
  },
  {
   "cell_type": "markdown",
   "metadata": {},
   "source": [
    "- 预测并存储每个模型的类。\n",
    "- 存储每个模型的预测类的概率"
   ]
  },
  {
   "cell_type": "code",
   "execution_count": null,
   "metadata": {},
   "outputs": [],
   "source": [
    "# 预测每一条数据对应类别和概率\n",
    "\n",
    "y_pred = list()\n",
    "y_prob = list()\n",
    "\n",
    "coeff_labels = ['lr', 'l1', 'l2']\n",
    "coeff_models = [lr, lr_l1, lr_l2]\n",
    "\n",
    "for lab,mod in zip(coeff_labels, coeff_models):\n",
    "    y_pred.append(pd.Series(mod.predict(X_test), name=lab))\n",
    "    y_prob.append(pd.Series(mod.predict_proba(X_test).max(axis=1), name=lab))\n",
    "    \n",
    "y_pred = pd.concat(y_pred, axis=1)\n",
    "y_prob = pd.concat(y_prob, axis=1)\n",
    "\n",
    "y_pred.head()\n"
   ]
  },
  {
   "cell_type": "code",
   "execution_count": null,
   "metadata": {},
   "outputs": [],
   "source": [
    "y_prob.head()"
   ]
  },
  {
   "cell_type": "markdown",
   "metadata": {},
   "source": [
    "对于每个模型，计算以下误差度量：\n",
    "- accuracy \n",
    "\n",
    "- precision \n",
    "\n",
    "- recall\n",
    "\n",
    "- fscore \n",
    "\n",
    "- 混淆矩阵 \n",
    "\n",
    "决定如何将多分类度量合并为每个模型的单个值"
   ]
  },
  {
   "cell_type": "code",
   "execution_count": null,
   "metadata": {},
   "outputs": [],
   "source": [
    "from sklearn.metrics import precision_recall_fscore_support as score\n",
    "from sklearn.metrics import confusion_matrix, accuracy_score, roc_auc_score\n",
    "from sklearn.preprocessing import label_binarize\n",
    "\n",
    "metrics = list()\n",
    "cm = dict()\n",
    "\n",
    "for lab in coeff_labels:\n",
    "\n",
    "    # Preciision, recall, f-score from the multi-class support function\n",
    "    precision, recall, fscore, _ = score(y_test, y_pred[lab], average='weighted')\n",
    "    \n",
    "    # The usual way to calculate accuracy\n",
    "    accuracy = accuracy_score(y_test, y_pred[lab])\n",
    "    \n",
    "    # ROC-AUC scores can be calculated by binarizing the data\n",
    "    auc = roc_auc_score(label_binarize(y_test, classes=[0,1,2,3,4,5]),\n",
    "              label_binarize(y_pred[lab], classes=[0,1,2,3,4,5]), \n",
    "              average='weighted')\n",
    "    \n",
    "    # Last, the confusion matrix\n",
    "    cm[lab] = confusion_matrix(y_test, y_pred[lab])\n",
    "    \n",
    "    metrics.append(pd.Series({'precision':precision, 'recall':recall, \n",
    "                              'fscore':fscore, 'accuracy':accuracy,\n",
    "                              'auc':auc}, \n",
    "                             name=lab))\n",
    "\n",
    "metrics = pd.concat(metrics, axis=1)\n",
    "metrics"
   ]
  },
  {
   "cell_type": "markdown",
   "metadata": {},
   "source": [
    "展示混淆矩阵"
   ]
  },
  {
   "cell_type": "code",
   "execution_count": null,
   "metadata": {},
   "outputs": [],
   "source": [
    "\n",
    "fig, axList = plt.subplots(nrows=2, ncols=2)\n",
    "axList = axList.flatten()\n",
    "fig.set_size_inches(12, 10)\n",
    "\n",
    "axList[-1].axis('off')\n",
    "\n",
    "for ax,lab in zip(axList[:-1], coeff_labels):\n",
    "    sns.heatmap(cm[lab], ax=ax, annot=True, fmt='d');\n",
    "    ax.set(title=lab);\n",
    "    \n",
    "plt.tight_layout()\n"
   ]
  },
  {
   "cell_type": "markdown",
   "metadata": {},
   "source": [
    "在构建模型之前识别高度相关的列并删除这些列"
   ]
  },
  {
   "cell_type": "code",
   "execution_count": 87,
   "metadata": {},
   "outputs": [],
   "source": [
    "from sklearn.feature_selection import SelectKBest\n",
    "from sklearn.feature_selection import chi2\n",
    "from sklearn.feature_selection import VarianceThreshold\n",
    "\n",
    "#threshold= 0.7\n",
    "\n",
    "sel = VarianceThreshold(threshold=(.7 * (1 - .7)))\n",
    "\n",
    "data2 = pd.concat([X_train,X_test])\n",
    "data_new = pd.DataFrame(sel.fit_transform(data2))\n",
    "\n",
    "\n",
    "data_y = pd.concat([y_train,y_test])\n",
    "\n",
    "from sklearn.model_selection import train_test_split\n",
    "\n",
    "X_new,X_test_new = train_test_split(data_new)\n",
    "Y_new,Y_test_new = train_test_split(data_y)"
   ]
  },
  {
   "cell_type": "markdown",
   "metadata": {},
   "source": [
    "使用标准, L1 和 L2 Logistic 回归"
   ]
  },
  {
   "cell_type": "code",
   "execution_count": null,
   "metadata": {},
   "outputs": [],
   "source": [
    "from sklearn.linear_model import LogisticRegressionCV\n",
    "\n",
    "# L1  正则化logistic回归\n",
    "lr_l1 = LogisticRegressionCV(Cs=10, cv=4, penalty='l1', solver='liblinear').fit(X_new, Y_new)"
   ]
  },
  {
   "cell_type": "code",
   "execution_count": null,
   "metadata": {},
   "outputs": [],
   "source": [
    "#使用不同的solvers参数 ‘newton-cg’, ‘lbfgs’, ‘sag’, ‘saga’ 并观察\n",
    "# lr_l1_test = LogisticRegressionCV(Cs=10, cv=4, penalty='l1', solver='newton-cg').fit(X_train, y_train)\n"
   ]
  },
  {
   "cell_type": "code",
   "execution_count": 89,
   "metadata": {},
   "outputs": [
    {
     "name": "stderr",
     "output_type": "stream",
     "text": [
      "H:\\Anaconda\\lib\\site-packages\\sklearn\\linear_model\\_logistic.py:765: ConvergenceWarning: lbfgs failed to converge (status=1):\n",
      "STOP: TOTAL NO. of ITERATIONS REACHED LIMIT.\n",
      "\n",
      "Increase the number of iterations (max_iter) or scale the data as shown in:\n",
      "    https://scikit-learn.org/stable/modules/preprocessing.html\n",
      "Please also refer to the documentation for alternative solver options:\n",
      "    https://scikit-learn.org/stable/modules/linear_model.html#logistic-regression\n",
      "  extra_warning_msg=_LOGISTIC_SOLVER_CONVERGENCE_MSG)\n",
      "H:\\Anaconda\\lib\\site-packages\\sklearn\\linear_model\\_logistic.py:765: ConvergenceWarning: lbfgs failed to converge (status=1):\n",
      "STOP: TOTAL NO. of ITERATIONS REACHED LIMIT.\n",
      "\n",
      "Increase the number of iterations (max_iter) or scale the data as shown in:\n",
      "    https://scikit-learn.org/stable/modules/preprocessing.html\n",
      "Please also refer to the documentation for alternative solver options:\n",
      "    https://scikit-learn.org/stable/modules/linear_model.html#logistic-regression\n",
      "  extra_warning_msg=_LOGISTIC_SOLVER_CONVERGENCE_MSG)\n",
      "H:\\Anaconda\\lib\\site-packages\\sklearn\\linear_model\\_logistic.py:765: ConvergenceWarning: lbfgs failed to converge (status=1):\n",
      "STOP: TOTAL NO. of ITERATIONS REACHED LIMIT.\n",
      "\n",
      "Increase the number of iterations (max_iter) or scale the data as shown in:\n",
      "    https://scikit-learn.org/stable/modules/preprocessing.html\n",
      "Please also refer to the documentation for alternative solver options:\n",
      "    https://scikit-learn.org/stable/modules/linear_model.html#logistic-regression\n",
      "  extra_warning_msg=_LOGISTIC_SOLVER_CONVERGENCE_MSG)\n",
      "H:\\Anaconda\\lib\\site-packages\\sklearn\\linear_model\\_logistic.py:765: ConvergenceWarning: lbfgs failed to converge (status=1):\n",
      "STOP: TOTAL NO. of ITERATIONS REACHED LIMIT.\n",
      "\n",
      "Increase the number of iterations (max_iter) or scale the data as shown in:\n",
      "    https://scikit-learn.org/stable/modules/preprocessing.html\n",
      "Please also refer to the documentation for alternative solver options:\n",
      "    https://scikit-learn.org/stable/modules/linear_model.html#logistic-regression\n",
      "  extra_warning_msg=_LOGISTIC_SOLVER_CONVERGENCE_MSG)\n",
      "H:\\Anaconda\\lib\\site-packages\\sklearn\\linear_model\\_logistic.py:765: ConvergenceWarning: lbfgs failed to converge (status=1):\n",
      "STOP: TOTAL NO. of ITERATIONS REACHED LIMIT.\n",
      "\n",
      "Increase the number of iterations (max_iter) or scale the data as shown in:\n",
      "    https://scikit-learn.org/stable/modules/preprocessing.html\n",
      "Please also refer to the documentation for alternative solver options:\n",
      "    https://scikit-learn.org/stable/modules/linear_model.html#logistic-regression\n",
      "  extra_warning_msg=_LOGISTIC_SOLVER_CONVERGENCE_MSG)\n",
      "H:\\Anaconda\\lib\\site-packages\\sklearn\\linear_model\\_logistic.py:765: ConvergenceWarning: lbfgs failed to converge (status=1):\n",
      "STOP: TOTAL NO. of ITERATIONS REACHED LIMIT.\n",
      "\n",
      "Increase the number of iterations (max_iter) or scale the data as shown in:\n",
      "    https://scikit-learn.org/stable/modules/preprocessing.html\n",
      "Please also refer to the documentation for alternative solver options:\n",
      "    https://scikit-learn.org/stable/modules/linear_model.html#logistic-regression\n",
      "  extra_warning_msg=_LOGISTIC_SOLVER_CONVERGENCE_MSG)\n",
      "H:\\Anaconda\\lib\\site-packages\\sklearn\\linear_model\\_logistic.py:765: ConvergenceWarning: lbfgs failed to converge (status=1):\n",
      "STOP: TOTAL NO. of ITERATIONS REACHED LIMIT.\n",
      "\n",
      "Increase the number of iterations (max_iter) or scale the data as shown in:\n",
      "    https://scikit-learn.org/stable/modules/preprocessing.html\n",
      "Please also refer to the documentation for alternative solver options:\n",
      "    https://scikit-learn.org/stable/modules/linear_model.html#logistic-regression\n",
      "  extra_warning_msg=_LOGISTIC_SOLVER_CONVERGENCE_MSG)\n"
     ]
    }
   ],
   "source": [
    "# L2 正则化logistic回归\n",
    "lr_l2 = LogisticRegressionCV(max_iter=1000,Cs=10, cv=4, penalty='l2').fit(X_new, Y_new)"
   ]
  },
  {
   "cell_type": "code",
   "execution_count": null,
   "metadata": {},
   "outputs": [],
   "source": [
    "。。。"
   ]
  }
 ],
 "metadata": {
  "kernelspec": {
   "display_name": "Python 3",
   "language": "python",
   "name": "python3"
  },
  "language_info": {
   "codemirror_mode": {
    "name": "ipython",
    "version": 3
   },
   "file_extension": ".py",
   "mimetype": "text/x-python",
   "name": "python",
   "nbconvert_exporter": "python",
   "pygments_lexer": "ipython3",
   "version": "3.7.0"
  }
 },
 "nbformat": 4,
 "nbformat_minor": 2
}
